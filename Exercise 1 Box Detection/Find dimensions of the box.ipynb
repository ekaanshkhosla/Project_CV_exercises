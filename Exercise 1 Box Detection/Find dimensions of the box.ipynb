{
 "cells": [
  {
   "cell_type": "code",
   "execution_count": 34,
   "id": "56b93093",
   "metadata": {},
   "outputs": [],
   "source": [
    "import scipy.io"
   ]
  },
  {
   "cell_type": "code",
   "execution_count": 35,
   "id": "9dfb4a36",
   "metadata": {},
   "outputs": [],
   "source": [
    "def load_data(file_name):\n",
    "    return scipy.io.loadmat(file_name)"
   ]
  },
  {
   "cell_type": "markdown",
   "id": "161cc50d",
   "metadata": {},
   "source": [
    "### Load Data"
   ]
  },
  {
   "cell_type": "code",
   "execution_count": 36,
   "id": "6a641605",
   "metadata": {},
   "outputs": [],
   "source": [
    "ex1 = load_data('example1kinect.mat')\n",
    "ex2 = load_data('example2kinect.mat')"
   ]
  },
  {
   "cell_type": "markdown",
   "id": "f1467171",
   "metadata": {},
   "source": [
    "### EDA"
   ]
  },
  {
   "cell_type": "code",
   "execution_count": 37,
   "id": "0f0c6c65",
   "metadata": {},
   "outputs": [
    {
     "data": {
      "text/plain": [
       "{'__header__': b'MATLAB 5.0 MAT-file, Platform: PCWIN64, Created on: Wed Apr 26 16:26:46 2017',\n",
       " '__version__': '1.0',\n",
       " '__globals__': [],\n",
       " 'amplitudes1': array([[    0,  1711,  2618, ..., 11774, 17148,     0],\n",
       "        [    0,  3487,  3862, ...,  6204,  6588,     0],\n",
       "        [    0,  2883,  1739, ...,  6702,  7729,     0],\n",
       "        ...,\n",
       "        [    0,  9210,  7708, ...,  4909,  4566,     0],\n",
       "        [    0, 17712, 13374, ...,  9831,  7632,     0],\n",
       "        [    0, 33642, 16712, ...,  6590,  7424,     0]], dtype=uint16),\n",
       " 'distances1': array([[0.        , 0.        , 0.        , ..., 2.08750653, 9.91966915,\n",
       "         0.        ],\n",
       "        [0.        , 0.        , 0.        , ..., 0.        , 0.        ,\n",
       "         0.        ],\n",
       "        [0.        , 0.        , 0.        , ..., 2.21158051, 0.        ,\n",
       "         0.        ],\n",
       "        ...,\n",
       "        [0.        , 0.81849653, 0.8396064 , ..., 0.86473584, 0.88194507,\n",
       "         0.        ],\n",
       "        [0.        , 0.87757653, 0.8493191 , ..., 0.84469038, 0.85190231,\n",
       "         0.        ],\n",
       "        [0.        , 0.92695111, 0.        , ..., 0.88022852, 0.84321123,\n",
       "         0.        ]]),\n",
       " 'cloud1': array([[[-0.        , -0.        ,  0.        ],\n",
       "         [-0.        , -0.        ,  0.        ],\n",
       "         [-0.        , -0.        ,  0.        ],\n",
       "         ...,\n",
       "         [ 1.13569915, -0.88586158,  1.51099968],\n",
       "         [ 0.        ,  0.        ,  0.        ],\n",
       "         [ 0.        , -0.        ,  0.        ]],\n",
       " \n",
       "        [[-0.        , -0.        ,  0.        ],\n",
       "         [-0.        , -0.        ,  0.        ],\n",
       "         [-0.        , -0.        ,  0.        ],\n",
       "         ...,\n",
       "         [ 0.        , -0.        ,  0.        ],\n",
       "         [ 0.        , -0.        ,  0.        ],\n",
       "         [ 0.        , -0.        ,  0.        ]],\n",
       " \n",
       "        [[-0.        , -0.        ,  0.        ],\n",
       "         [-0.        , -0.        ,  0.        ],\n",
       "         [-0.        , -0.        ,  0.        ],\n",
       "         ...,\n",
       "         [ 1.20425951, -0.9299584 ,  1.60499978],\n",
       "         [ 0.        , -0.        ,  0.        ],\n",
       "         [ 0.        , -0.        ,  0.        ]],\n",
       " \n",
       "        ...,\n",
       " \n",
       "        [[-0.        ,  0.        ,  0.        ],\n",
       "         [-0.43311775,  0.38050646,  0.58099955],\n",
       "         [-0.44274667,  0.39052004,  0.59699953],\n",
       "         ...,\n",
       "         [ 0.4662618 ,  0.40088028,  0.60799915],\n",
       "         [ 0.47715023,  0.40865016,  0.61899906],\n",
       "         [ 0.        ,  0.        ,  0.        ]],\n",
       " \n",
       "        [[-0.        ,  0.        ,  0.        ],\n",
       "         [-0.46417207,  0.40963593,  0.62199944],\n",
       "         [-0.44766611,  0.39664793,  0.60299951],\n",
       "         ...,\n",
       "         [ 0.45525402,  0.39318922,  0.59299904],\n",
       "         [ 0.46069545,  0.39634511,  0.59699905],\n",
       "         [ 0.        ,  0.        ,  0.        ]],\n",
       " \n",
       "        [[-0.        ,  0.        ,  0.        ],\n",
       "         [-0.49006721,  0.43443909,  0.65599936],\n",
       "         [-0.        ,  0.        ,  0.        ],\n",
       "         ...,\n",
       "         [ 0.47419965,  0.41139904,  0.61699903],\n",
       "         [ 0.45579621,  0.3938987 ,  0.58999896],\n",
       "         [ 0.        ,  0.        ,  0.        ]]])}"
      ]
     },
     "execution_count": 37,
     "metadata": {},
     "output_type": "execute_result"
    }
   ],
   "source": [
    "ex1"
   ]
  },
  {
   "cell_type": "code",
   "execution_count": 38,
   "id": "0663ed84",
   "metadata": {},
   "outputs": [
    {
     "data": {
      "text/plain": [
       "dict"
      ]
     },
     "execution_count": 38,
     "metadata": {},
     "output_type": "execute_result"
    }
   ],
   "source": [
    "type(ex1)"
   ]
  },
  {
   "cell_type": "code",
   "execution_count": 39,
   "id": "edc8c008",
   "metadata": {},
   "outputs": [
    {
     "data": {
      "text/plain": [
       "array([[    0,  1711,  2618, ..., 11774, 17148,     0],\n",
       "       [    0,  3487,  3862, ...,  6204,  6588,     0],\n",
       "       [    0,  2883,  1739, ...,  6702,  7729,     0],\n",
       "       ...,\n",
       "       [    0,  9210,  7708, ...,  4909,  4566,     0],\n",
       "       [    0, 17712, 13374, ...,  9831,  7632,     0],\n",
       "       [    0, 33642, 16712, ...,  6590,  7424,     0]], dtype=uint16)"
      ]
     },
     "execution_count": 39,
     "metadata": {},
     "output_type": "execute_result"
    }
   ],
   "source": [
    "ex1['amplitudes1']"
   ]
  },
  {
   "cell_type": "code",
   "execution_count": 40,
   "id": "a92253e6",
   "metadata": {},
   "outputs": [
    {
     "data": {
      "text/plain": [
       "(424, 512)"
      ]
     },
     "execution_count": 40,
     "metadata": {},
     "output_type": "execute_result"
    }
   ],
   "source": [
    "ex1['amplitudes1'].shape"
   ]
  },
  {
   "cell_type": "code",
   "execution_count": 41,
   "id": "0a69898d",
   "metadata": {
    "scrolled": true
   },
   "outputs": [
    {
     "data": {
      "text/plain": [
       "array([[0.        , 0.        , 0.        , ..., 2.08750653, 9.91966915,\n",
       "        0.        ],\n",
       "       [0.        , 0.        , 0.        , ..., 0.        , 0.        ,\n",
       "        0.        ],\n",
       "       [0.        , 0.        , 0.        , ..., 2.21158051, 0.        ,\n",
       "        0.        ],\n",
       "       ...,\n",
       "       [0.        , 0.81849653, 0.8396064 , ..., 0.86473584, 0.88194507,\n",
       "        0.        ],\n",
       "       [0.        , 0.87757653, 0.8493191 , ..., 0.84469038, 0.85190231,\n",
       "        0.        ],\n",
       "       [0.        , 0.92695111, 0.        , ..., 0.88022852, 0.84321123,\n",
       "        0.        ]])"
      ]
     },
     "execution_count": 41,
     "metadata": {},
     "output_type": "execute_result"
    }
   ],
   "source": [
    "ex1['distances1']"
   ]
  },
  {
   "cell_type": "code",
   "execution_count": 42,
   "id": "097bf99d",
   "metadata": {},
   "outputs": [
    {
     "data": {
      "text/plain": [
       "(424, 512)"
      ]
     },
     "execution_count": 42,
     "metadata": {},
     "output_type": "execute_result"
    }
   ],
   "source": [
    "ex1['distances1'].shape"
   ]
  },
  {
   "cell_type": "code",
   "execution_count": 43,
   "id": "185e3b07",
   "metadata": {},
   "outputs": [
    {
     "data": {
      "text/plain": [
       "(424, 512, 3)"
      ]
     },
     "execution_count": 43,
     "metadata": {},
     "output_type": "execute_result"
    }
   ],
   "source": [
    "ex1['cloud1'].shape"
   ]
  },
  {
   "cell_type": "code",
   "execution_count": 44,
   "id": "161feb92",
   "metadata": {},
   "outputs": [
    {
     "data": {
      "text/plain": [
       "array([[[-0.        , -0.        ,  0.        ],\n",
       "        [-0.        , -0.        ,  0.        ],\n",
       "        [-0.        , -0.        ,  0.        ],\n",
       "        ...,\n",
       "        [ 1.13569915, -0.88586158,  1.51099968],\n",
       "        [ 0.        ,  0.        ,  0.        ],\n",
       "        [ 0.        , -0.        ,  0.        ]],\n",
       "\n",
       "       [[-0.        , -0.        ,  0.        ],\n",
       "        [-0.        , -0.        ,  0.        ],\n",
       "        [-0.        , -0.        ,  0.        ],\n",
       "        ...,\n",
       "        [ 0.        , -0.        ,  0.        ],\n",
       "        [ 0.        , -0.        ,  0.        ],\n",
       "        [ 0.        , -0.        ,  0.        ]],\n",
       "\n",
       "       [[-0.        , -0.        ,  0.        ],\n",
       "        [-0.        , -0.        ,  0.        ],\n",
       "        [-0.        , -0.        ,  0.        ],\n",
       "        ...,\n",
       "        [ 1.20425951, -0.9299584 ,  1.60499978],\n",
       "        [ 0.        , -0.        ,  0.        ],\n",
       "        [ 0.        , -0.        ,  0.        ]],\n",
       "\n",
       "       ...,\n",
       "\n",
       "       [[-0.        ,  0.        ,  0.        ],\n",
       "        [-0.43311775,  0.38050646,  0.58099955],\n",
       "        [-0.44274667,  0.39052004,  0.59699953],\n",
       "        ...,\n",
       "        [ 0.4662618 ,  0.40088028,  0.60799915],\n",
       "        [ 0.47715023,  0.40865016,  0.61899906],\n",
       "        [ 0.        ,  0.        ,  0.        ]],\n",
       "\n",
       "       [[-0.        ,  0.        ,  0.        ],\n",
       "        [-0.46417207,  0.40963593,  0.62199944],\n",
       "        [-0.44766611,  0.39664793,  0.60299951],\n",
       "        ...,\n",
       "        [ 0.45525402,  0.39318922,  0.59299904],\n",
       "        [ 0.46069545,  0.39634511,  0.59699905],\n",
       "        [ 0.        ,  0.        ,  0.        ]],\n",
       "\n",
       "       [[-0.        ,  0.        ,  0.        ],\n",
       "        [-0.49006721,  0.43443909,  0.65599936],\n",
       "        [-0.        ,  0.        ,  0.        ],\n",
       "        ...,\n",
       "        [ 0.47419965,  0.41139904,  0.61699903],\n",
       "        [ 0.45579621,  0.3938987 ,  0.58999896],\n",
       "        [ 0.        ,  0.        ,  0.        ]]])"
      ]
     },
     "execution_count": 44,
     "metadata": {},
     "output_type": "execute_result"
    }
   ],
   "source": [
    "ex1['cloud1']"
   ]
  },
  {
   "cell_type": "markdown",
   "id": "94765716",
   "metadata": {},
   "source": [
    "### Visualizations"
   ]
  },
  {
   "cell_type": "code",
   "execution_count": 45,
   "id": "51568e9f",
   "metadata": {},
   "outputs": [],
   "source": [
    "import matplotlib\n",
    "import numpy as np\n",
    "import scipy.io as sio\n",
    "import matplotlib.pyplot as plt"
   ]
  },
  {
   "cell_type": "code",
   "execution_count": 46,
   "id": "ae0f4b90",
   "metadata": {},
   "outputs": [],
   "source": [
    "def visualize_amplitude(example, num):\n",
    "    A = example['amplitudes'+str(num)]\n",
    "    D = example['amplitudes'+str(num)]\n",
    "    PC = example['amplitudes'+str(num)]\n",
    "    plt.figure(figsize=(6, 4))\n",
    "    plt.imshow(A, cmap='gray')\n",
    "    plt.colorbar()\n",
    "    plt.title('Amplitude Image')"
   ]
  },
  {
   "cell_type": "code",
   "execution_count": 47,
   "id": "35a6c2d0",
   "metadata": {},
   "outputs": [
    {
     "data": {
      "image/png": "[encoded data removed]",
      "text/plain": [
       "<Figure size 600x400 with 2 Axes>"
      ]
     },
     "metadata": {},
     "output_type": "display_data"
    }
   ],
   "source": [
    "visualize_amplitude(ex1, 1)"
   ]
  },
  {
   "cell_type": "code",
   "execution_count": 48,
   "id": "595023b4",
   "metadata": {},
   "outputs": [
    {
     "data": {
      "image/png": "[encoded data removed]",
      "text/plain": [
       "<Figure size 600x400 with 2 Axes>"
      ]
     },
     "metadata": {},
     "output_type": "display_data"
    }
   ],
   "source": [
    "visualize_amplitude(ex2,2)"
   ]
  },
  {
   "cell_type": "markdown",
   "id": "ea036335",
   "metadata": {},
   "source": [
    "### Visualizing 3d point cloud"
   ]
  },
  {
   "cell_type": "code",
   "execution_count": 49,
   "id": "e116546a",
   "metadata": {},
   "outputs": [],
   "source": [
    "PC = ex1['cloud1']\n",
    "import plotly.graph_objects as go\n",
    "\n",
    "x = PC[:, :, 0].flatten() \n",
    "y = PC[:, :, 1].flatten()  \n",
    "z = PC[:, :, 2].flatten() \n",
    "\n",
    "# # Create a 3D scatter plot using Plotly\n",
    "# fig = go.Figure(data=[go.Scatter3d(x=x, y=y, z=z, mode='markers',\n",
    "#                                    marker=dict(size=0.5, opacity=0.5))])\n",
    "\n",
    "# # Set axis labels and title\n",
    "# fig.update_layout(scene=dict(xaxis_title='X',\n",
    "#                              yaxis_title='Y',\n",
    "#                              zaxis_title='Z'),\n",
    "#                   title_text='3D Point Cloud')\n",
    "\n",
    "# fig.show()"
   ]
  },
  {
   "cell_type": "code",
   "execution_count": 50,
   "id": "0a9a119a",
   "metadata": {},
   "outputs": [
    {
     "data": {
      "text/plain": [
       "(array([-0.        , -0.        , -0.        , ...,  0.47419965,\n",
       "         0.45579621,  0.        ]),\n",
       " array([-0.        , -0.        , -0.        , ...,  0.41139904,\n",
       "         0.3938987 ,  0.        ]),\n",
       " array([0.        , 0.        , 0.        , ..., 0.61699903, 0.58999896,\n",
       "        0.        ]))"
      ]
     },
     "execution_count": 50,
     "metadata": {},
     "output_type": "execute_result"
    }
   ],
   "source": [
    "x,y,z"
   ]
  },
  {
   "cell_type": "code",
   "execution_count": 51,
   "id": "c0d818f3",
   "metadata": {},
   "outputs": [],
   "source": [
    "points = np.column_stack((x, y, z))"
   ]
  },
  {
   "cell_type": "code",
   "execution_count": 52,
   "id": "88ad0101",
   "metadata": {},
   "outputs": [
    {
     "data": {
      "text/plain": [
       "(217088, 3)"
      ]
     },
     "execution_count": 52,
     "metadata": {},
     "output_type": "execute_result"
    }
   ],
   "source": [
    "points.shape"
   ]
  },
  {
   "cell_type": "code",
   "execution_count": 53,
   "id": "30fd2452",
   "metadata": {},
   "outputs": [],
   "source": [
    "from tqdm.auto import tqdm"
   ]
  },
  {
   "cell_type": "markdown",
   "id": "88ed6306",
   "metadata": {},
   "source": [
    "### RANSAC (to find dominant plane)"
   ]
  },
  {
   "cell_type": "code",
   "execution_count": 54,
   "id": "0e5d7423",
   "metadata": {
    "scrolled": false
   },
   "outputs": [
    {
     "data": {
      "application/vnd.jupyter.widget-view+json": {
       "model_id": "dd37a2c6903a4fadbef9856f3918e3a0",
       "version_major": 2,
       "version_minor": 0
      },
      "text/plain": [
       "  0%|          | 0/100 [00:00<?, ?it/s]"
      ]
     },
     "metadata": {},
     "output_type": "display_data"
    },
    {
     "name": "stderr",
     "output_type": "stream",
     "text": [
      "C:\\Users\\ekaan\\AppData\\Local\\Temp\\ipykernel_18608\\810225570.py:14: RuntimeWarning: invalid value encountered in scalar divide\n",
      "  return abs(a*x + b*y + c*z + d) / np.sqrt(a**2 + b**2 + c**2)\n"
     ]
    },
    {
     "name": "stdout",
     "output_type": "stream",
     "text": [
      "Best Plane: (0.004718295327764244, -0.11788670644156696, -0.16275839109094997, 0.14639548604282626)\n",
      "Inliers: [[-1.01971591 -0.87172234  1.5200001 ]\n",
      " [-0.95444304 -0.81942058  1.43000007]\n",
      " [-0.98940808 -0.85309643  1.49000001]\n",
      " ...\n",
      " [ 0.46192017  0.4221198   0.64299971]\n",
      " [ 0.47419965  0.41139904  0.61699903]\n",
      " [ 0.45579621  0.3938987   0.58999896]]\n",
      "Outliers: [[-0.         -0.          0.        ]\n",
      " [-0.         -0.          0.        ]\n",
      " [-0.         -0.          0.        ]\n",
      " ...\n",
      " [ 0.32413805  0.11392661  0.76999998]\n",
      " [ 0.32919115  0.11496447  0.77700001]\n",
      " [ 0.          0.          0.        ]]\n"
     ]
    }
   ],
   "source": [
    "import numpy as np\n",
    "\n",
    "def fit_plane(p1, p2, p3):\n",
    "    \"\"\"Given three 3D points, compute the plane equation ax + by + cz + d = 0.\"\"\"\n",
    "    normal = np.cross(p2 - p1, p3 - p1)\n",
    "    a, b, c = normal\n",
    "    d = -np.dot(normal, p1)\n",
    "    return a, b, c, d\n",
    "\n",
    "def distance_to_plane(plane, point):\n",
    "    \"\"\"Compute the distance from a point to a plane.\"\"\"\n",
    "    a, b, c, d = plane\n",
    "    x, y, z = point\n",
    "    return abs(a*x + b*y + c*z + d) / np.sqrt(a**2 + b**2 + c**2)\n",
    "\n",
    "def ransac_plane_fit(data, iterations, threshold):\n",
    "    best_plane = None\n",
    "    best_inliers_count = 0\n",
    "    best_inlier_indices = []\n",
    "    \n",
    "    for i in tqdm(range(0,iterations)):\n",
    "        sample_indices = np.random.choice(data.shape[0], 3, replace=False)\n",
    "        sample = data[sample_indices]\n",
    "        \n",
    "        # Fit a plane to the sample\n",
    "        plane = fit_plane(*sample)\n",
    "        \n",
    "        # Count inliers and store their indices\n",
    "        distances = [distance_to_plane(plane, p) for p in data]\n",
    "        inlier_indices = [i for i, d in enumerate(distances) if d < threshold]\n",
    "        \n",
    "        if len(inlier_indices) > best_inliers_count:\n",
    "            best_inliers_count = len(inlier_indices)\n",
    "            best_plane = plane\n",
    "            best_inlier_indices = inlier_indices\n",
    "            \n",
    "    # Determine inliers and outliers based on best_plane\n",
    "    inliers = data[best_inlier_indices]\n",
    "    outlier_indices = set(range(data.shape[0])) - set(best_inlier_indices)\n",
    "    outliers = data[list(outlier_indices)]\n",
    "            \n",
    "    return best_plane, inliers, outliers\n",
    "\n",
    "\n",
    "best_plane_dominant, inliers, outliers = ransac_plane_fit(points, 100, 0.035)\n",
    "print(\"Best Plane:\", best_plane_dominant)\n",
    "print(\"Inliers:\", inliers)\n",
    "print(\"Outliers:\", outliers)"
   ]
  },
  {
   "cell_type": "code",
   "execution_count": 55,
   "id": "062ca952",
   "metadata": {},
   "outputs": [
    {
     "data": {
      "text/plain": [
       "(67367, 3)"
      ]
     },
     "execution_count": 55,
     "metadata": {},
     "output_type": "execute_result"
    }
   ],
   "source": [
    "outliers.shape"
   ]
  },
  {
   "cell_type": "code",
   "execution_count": 56,
   "id": "dd73b8aa",
   "metadata": {},
   "outputs": [
    {
     "data": {
      "text/plain": [
       "(149721, 3)"
      ]
     },
     "execution_count": 56,
     "metadata": {},
     "output_type": "execute_result"
    }
   ],
   "source": [
    "inliers.shape"
   ]
  },
  {
   "cell_type": "markdown",
   "id": "2483fd81",
   "metadata": {},
   "source": [
    "### Visualizing outliers"
   ]
  },
  {
   "cell_type": "code",
   "execution_count": 57,
   "id": "023fe151",
   "metadata": {},
   "outputs": [],
   "source": [
    "# import plotly.graph_objects as go\n",
    "\n",
    "# x = outliers[:, 0]  \n",
    "# y = outliers[:, 1]  \n",
    "# z = outliers[:, 2]  \n",
    "\n",
    "# # Create a 3D scatter plot using Plotly\n",
    "# fig = go.Figure(data=[go.Scatter3d(x=x, y=y, z=z, mode='markers',\n",
    "#                                    marker=dict(size=0.5, opacity=0.5))])\n",
    "\n",
    "# # Set axis labels and title\n",
    "# fig.update_layout(scene=dict(xaxis_title='X',\n",
    "#                              yaxis_title='Y',\n",
    "#                              zaxis_title='Z'),\n",
    "#                   title_text='3D Point Cloud of outliers created in finding dominant plane')\n",
    "\n",
    "# fig.show()"
   ]
  },
  {
   "cell_type": "markdown",
   "id": "d159aa1e",
   "metadata": {},
   "source": [
    "### Visualizing inliers i.e. dominant plane"
   ]
  },
  {
   "cell_type": "code",
   "execution_count": 58,
   "id": "33996589",
   "metadata": {},
   "outputs": [],
   "source": [
    "# import plotly.graph_objects as go\n",
    "\n",
    "# x = inliers[:, 0]  \n",
    "# y = inliers[:, 1] \n",
    "# z = inliers[:, 2] \n",
    "\n",
    "# # Create a 3D scatter plot using Plotly\n",
    "# fig = go.Figure(data=[go.Scatter3d(x=x, y=y, z=z, mode='markers',\n",
    "#                                    marker=dict(size=0.5, opacity=0.5))])\n",
    "\n",
    "# # Set axis labels and title\n",
    "# fig.update_layout(scene=dict(xaxis_title='X',\n",
    "#                              yaxis_title='Y',\n",
    "#                              zaxis_title='Z'),\n",
    "#                   title_text='3D Point Cloud of dominant plane')\n",
    "\n",
    "# fig.show()"
   ]
  },
  {
   "cell_type": "markdown",
   "id": "9d277f4a",
   "metadata": {},
   "source": [
    "### Seperating box top plane using outliers created in finding dominant plane"
   ]
  },
  {
   "cell_type": "code",
   "execution_count": 59,
   "id": "bb6642b4",
   "metadata": {},
   "outputs": [
    {
     "data": {
      "application/vnd.jupyter.widget-view+json": {
       "model_id": "53ab185b4bcb4bf88a3bb91122358119",
       "version_major": 2,
       "version_minor": 0
      },
      "text/plain": [
       "  0%|          | 0/100 [00:00<?, ?it/s]"
      ]
     },
     "metadata": {},
     "output_type": "display_data"
    },
    {
     "name": "stderr",
     "output_type": "stream",
     "text": [
      "C:\\Users\\ekaan\\AppData\\Local\\Temp\\ipykernel_18608\\1986929678.py:14: RuntimeWarning: invalid value encountered in scalar divide\n",
      "  return abs(a*x + b*y + c*z + d) / np.sqrt(a**2 + b**2 + c**2)\n"
     ]
    },
    {
     "name": "stdout",
     "output_type": "stream",
     "text": [
      "Best Plane: (0.001662279737772443, -0.029063427102113626, -0.03976168446462666, 0.026337078525803824)\n",
      "Inliers: [[0.19298449 0.09789242 0.59600002]\n",
      " [0.21657276 0.11678957 0.58599997]\n",
      " [0.21815597 0.11678923 0.58600008]\n",
      " ...\n",
      " [0.2415321  0.09009933 0.60900009]\n",
      " [0.24442226 0.08995146 0.60800004]\n",
      " [0.24647109 0.09009971 0.60900009]]\n",
      "Outliers: [[-0.         -0.          0.        ]\n",
      " [-0.         -0.          0.        ]\n",
      " [-0.         -0.          0.        ]\n",
      " ...\n",
      " [ 0.32413805  0.11392661  0.76999998]\n",
      " [ 0.32919115  0.11496447  0.77700001]\n",
      " [ 0.          0.          0.        ]]\n"
     ]
    }
   ],
   "source": [
    "import numpy as np\n",
    "\n",
    "def fit_plane(p1, p2, p3):\n",
    "    \"\"\"Given three 3D points, compute the plane equation ax + by + cz + d = 0.\"\"\"\n",
    "    normal = np.cross(p2 - p1, p3 - p1)\n",
    "    a, b, c = normal\n",
    "    d = -np.dot(normal, p1)\n",
    "    return a, b, c, d\n",
    "\n",
    "def distance_to_plane(plane, point):\n",
    "    \"\"\"Compute the distance from a point to a plane.\"\"\"\n",
    "    a, b, c, d = plane\n",
    "    x, y, z = point\n",
    "    return abs(a*x + b*y + c*z + d) / np.sqrt(a**2 + b**2 + c**2)\n",
    "\n",
    "def ransac_plane_fit(data, iterations, threshold):\n",
    "    best_plane = None\n",
    "    best_inliers_count = 0\n",
    "    best_inlier_indices = []\n",
    "    \n",
    "    for i in tqdm(range(0,iterations)):\n",
    "        sample_indices = np.random.choice(data.shape[0], 3, replace=False)\n",
    "        sample = data[sample_indices]\n",
    "        \n",
    "        # Fit a plane to the sample\n",
    "        plane = fit_plane(*sample)\n",
    "        \n",
    "        # Count inliers and store their indices\n",
    "        distances = [distance_to_plane(plane, p) for p in data]\n",
    "        inlier_indices = [i for i, d in enumerate(distances) if d < threshold]\n",
    "        \n",
    "        if len(inlier_indices) > best_inliers_count:\n",
    "            best_inliers_count = len(inlier_indices)\n",
    "            best_plane = plane\n",
    "            best_inlier_indices = inlier_indices\n",
    "            \n",
    "    # Determine inliers and outliers based on best_plane\n",
    "    inliers = data[best_inlier_indices]\n",
    "    outlier_indices = set(range(data.shape[0])) - set(best_inlier_indices)\n",
    "    outliers = data[list(outlier_indices)]\n",
    "            \n",
    "    return best_plane, inliers, outliers\n",
    "\n",
    "\n",
    "best_plane, inliers, outliers = ransac_plane_fit(outliers, 100, 0.005)\n",
    "print(\"Best Plane:\", best_plane)\n",
    "print(\"Inliers:\", inliers)\n",
    "print(\"Outliers:\", outliers)"
   ]
  },
  {
   "cell_type": "markdown",
   "id": "2b9b2c9b",
   "metadata": {},
   "source": [
    "### Visualizing outliers"
   ]
  },
  {
   "cell_type": "code",
   "execution_count": 60,
   "id": "407a8ea5",
   "metadata": {},
   "outputs": [],
   "source": [
    "# import plotly.graph_objects as go\n",
    "\n",
    "# x = outliers[:, 0] \n",
    "# y = outliers[:, 1]  \n",
    "# z = outliers[:, 2] \n",
    "\n",
    "# # Create a 3D scatter plot using Plotly\n",
    "# fig = go.Figure(data=[go.Scatter3d(x=x, y=y, z=z, mode='markers',\n",
    "#                                    marker=dict(size=0.5, opacity=0.5))])\n",
    "\n",
    "# # Set axis labels and title\n",
    "# fig.update_layout(scene=dict(xaxis_title='X',\n",
    "#                              yaxis_title='Y',\n",
    "#                              zaxis_title='Z'),\n",
    "#                   title_text='3D Point Cloud Outliers created in finding box top')\n",
    "\n",
    "# fig.show()"
   ]
  },
  {
   "cell_type": "markdown",
   "id": "af4fcaeb",
   "metadata": {},
   "source": [
    "### Visualizing inliers i.e. box top plane"
   ]
  },
  {
   "cell_type": "code",
   "execution_count": 61,
   "id": "84653a35",
   "metadata": {},
   "outputs": [],
   "source": [
    "# import plotly.graph_objects as go\n",
    "\n",
    "# x = inliers[:, 0] \n",
    "# y = inliers[:, 1] \n",
    "# z = inliers[:, 2]\n",
    "\n",
    "# # Create a 3D scatter plot using Plotly\n",
    "# fig = go.Figure(data=[go.Scatter3d(x=x, y=y, z=z, mode='markers',\n",
    "#                                    marker=dict(size=0.5, opacity=0.5))])\n",
    "\n",
    "# # Set axis labels and title\n",
    "# fig.update_layout(scene=dict(xaxis_title='X',\n",
    "#                              yaxis_title='Y',\n",
    "#                              zaxis_title='Z'),\n",
    "#                   title_text='3D Point Cloud of box top plane')\n",
    "\n",
    "# fig.show()"
   ]
  },
  {
   "cell_type": "code",
   "execution_count": 62,
   "id": "cc4b9c8f",
   "metadata": {},
   "outputs": [
    {
     "data": {
      "text/plain": [
       "35939"
      ]
     },
     "execution_count": 62,
     "metadata": {},
     "output_type": "execute_result"
    }
   ],
   "source": [
    "inliers.shape[0]"
   ]
  },
  {
   "cell_type": "markdown",
   "id": "e0366b50",
   "metadata": {},
   "source": [
    "### Finding distance between two planes (which would be our height of box) by chosing random point from box top plane and finding its distance from dominant plane"
   ]
  },
  {
   "cell_type": "code",
   "execution_count": 63,
   "id": "023fc1a5",
   "metadata": {},
   "outputs": [],
   "source": [
    "random_point = np.random.randint(0,inliers.shape[0] )"
   ]
  },
  {
   "cell_type": "code",
   "execution_count": 64,
   "id": "b9739025",
   "metadata": {},
   "outputs": [
    {
     "data": {
      "text/plain": [
       "21850"
      ]
     },
     "execution_count": 64,
     "metadata": {},
     "output_type": "execute_result"
    }
   ],
   "source": [
    "random_point"
   ]
  },
  {
   "cell_type": "code",
   "execution_count": 65,
   "id": "63774780",
   "metadata": {},
   "outputs": [
    {
     "data": {
      "text/plain": [
       "array([ 0.21819882, -0.00599263,  0.6789999 ])"
      ]
     },
     "execution_count": 65,
     "metadata": {},
     "output_type": "execute_result"
    }
   ],
   "source": [
    "inliers[random_point]"
   ]
  },
  {
   "cell_type": "code",
   "execution_count": 66,
   "id": "c9cdac49",
   "metadata": {},
   "outputs": [],
   "source": [
    "import math"
   ]
  },
  {
   "cell_type": "code",
   "execution_count": 67,
   "id": "377c9a8e",
   "metadata": {},
   "outputs": [],
   "source": [
    "def distance_point_to_plane(point, plane_coeffs):\n",
    "    x1, y1, z1 = point\n",
    "    A, B, C, D = plane_coeffs\n",
    "    \n",
    "    numerator = abs(A*x1 + B*y1 + C*z1 + D)\n",
    "    denominator = math.sqrt(A**2 + B**2 + C**2)\n",
    "    \n",
    "    return numerator / denominator"
   ]
  },
  {
   "cell_type": "code",
   "execution_count": 68,
   "id": "7ad70a83",
   "metadata": {},
   "outputs": [
    {
     "data": {
      "text/plain": [
       "(0.001662279737772443,\n",
       " -0.029063427102113626,\n",
       " -0.03976168446462666,\n",
       " 0.026337078525803824)"
      ]
     },
     "execution_count": 68,
     "metadata": {},
     "output_type": "execute_result"
    }
   ],
   "source": [
    "best_plane"
   ]
  },
  {
   "cell_type": "code",
   "execution_count": 69,
   "id": "2a9cf5d7",
   "metadata": {},
   "outputs": [
    {
     "data": {
      "text/plain": [
       "array([ 0.21819882, -0.00599263,  0.6789999 ])"
      ]
     },
     "execution_count": 69,
     "metadata": {},
     "output_type": "execute_result"
    }
   ],
   "source": [
    "inliers[random_point]"
   ]
  },
  {
   "cell_type": "code",
   "execution_count": 70,
   "id": "bb5671e6",
   "metadata": {},
   "outputs": [
    {
     "name": "stdout",
     "output_type": "stream",
     "text": [
      "Height of box is: 0.18713642518105333\n"
     ]
    }
   ],
   "source": [
    "print(\"Height of box is:\",distance_point_to_plane(inliers[random_point], best_plane_dominant))"
   ]
  },
  {
   "cell_type": "markdown",
   "id": "4afa885a",
   "metadata": {},
   "source": [
    "### Finding length and width of the box by finding four corners of the box"
   ]
  },
  {
   "cell_type": "code",
   "execution_count": 71,
   "id": "d3a3a8a7",
   "metadata": {},
   "outputs": [],
   "source": [
    "top_10_points_max_x = sorted(inliers, key=lambda point: point[0], reverse=True)[:10]"
   ]
  },
  {
   "cell_type": "code",
   "execution_count": 72,
   "id": "52cc94bb",
   "metadata": {},
   "outputs": [],
   "source": [
    "avg_x_max_x = sum(point[0] for point in top_10_points_max_x) / 10\n",
    "avg_y_max_x = sum(point[1] for point in top_10_points_max_x) / 10\n",
    "avg_z_max_x = sum(point[2] for point in top_10_points_max_x) / 10"
   ]
  },
  {
   "cell_type": "code",
   "execution_count": 73,
   "id": "0f6af517",
   "metadata": {},
   "outputs": [],
   "source": [
    "top_10_points_min_x = sorted(inliers, key=lambda point: point[0], reverse=False)[:10]"
   ]
  },
  {
   "cell_type": "code",
   "execution_count": 74,
   "id": "7744fee9",
   "metadata": {},
   "outputs": [],
   "source": [
    "avg_x_min_x = sum(point[0] for point in top_10_points_min_x) / 10\n",
    "avg_y_min_x = sum(point[1] for point in top_10_points_min_x) / 10\n",
    "avg_z_min_x = sum(point[2] for point in top_10_points_min_x) / 10"
   ]
  },
  {
   "cell_type": "code",
   "execution_count": 75,
   "id": "c6ec8294",
   "metadata": {},
   "outputs": [],
   "source": [
    "top_10_points_max_y = sorted(inliers, key=lambda point: point[1], reverse=True)[:10]"
   ]
  },
  {
   "cell_type": "code",
   "execution_count": 76,
   "id": "c2017c65",
   "metadata": {},
   "outputs": [],
   "source": [
    "avg_x_max_y = sum(point[0] for point in top_10_points_max_y) / 10\n",
    "avg_y_max_y = sum(point[1] for point in top_10_points_max_y) / 10\n",
    "avg_z_max_y = sum(point[2] for point in top_10_points_max_y) / 10"
   ]
  },
  {
   "cell_type": "code",
   "execution_count": 77,
   "id": "5ffacfed",
   "metadata": {},
   "outputs": [],
   "source": [
    "top_10_points_min_y = sorted(inliers, key=lambda point: point[1], reverse=False)[:10]"
   ]
  },
  {
   "cell_type": "code",
   "execution_count": 78,
   "id": "f5f96152",
   "metadata": {},
   "outputs": [],
   "source": [
    "avg_x_min_y = sum(point[0] for point in top_10_points_min_y) / 10\n",
    "avg_y_min_y = sum(point[1] for point in top_10_points_min_y) / 10\n",
    "avg_z_min_y = sum(point[2] for point in top_10_points_min_y) / 10"
   ]
  },
  {
   "cell_type": "code",
   "execution_count": 79,
   "id": "73010803",
   "metadata": {},
   "outputs": [
    {
     "name": "stdout",
     "output_type": "stream",
     "text": [
      "Corner 1: 0.30784635841846464 -0.1297727957367897 0.7699000477790833\n",
      "Corner 2: -0.2049370750784874 0.03597017489373684 0.6293000221252442\n",
      "Corner 3: 0.21768267452716827 0.14075536727905275 0.5726000249385834\n",
      "Corner 4: -0.10925567075610161 -0.22645404040813447 0.8260000228881836\n"
     ]
    }
   ],
   "source": [
    "print(\"Corner 1:\",avg_x_max_x,avg_y_max_x,avg_z_max_x)\n",
    "print(\"Corner 2:\",avg_x_min_x,avg_y_min_x,avg_z_min_x)\n",
    "print(\"Corner 3:\",avg_x_max_y,avg_y_max_y,avg_z_max_y)\n",
    "print(\"Corner 4:\",avg_x_min_y,avg_y_min_y,avg_z_min_y)"
   ]
  },
  {
   "cell_type": "markdown",
   "id": "0fbe3d7e",
   "metadata": {},
   "source": [
    "### Finding distance between points, one would be length one would be width and one would be diagonal"
   ]
  },
  {
   "cell_type": "code",
   "execution_count": 80,
   "id": "f8d28b7a",
   "metadata": {},
   "outputs": [],
   "source": [
    "def distance_3d(point1, point2):\n",
    "    x1, y1, z1 = point1\n",
    "    x2, y2, z2 = point2\n",
    "    return math.sqrt((x2 - x1)**2 + (y2 - y1)**2 + (z2 - z1)**2)"
   ]
  },
  {
   "cell_type": "code",
   "execution_count": 81,
   "id": "84d46894",
   "metadata": {},
   "outputs": [
    {
     "name": "stdout",
     "output_type": "stream",
     "text": [
      "1st distance: 0.5569433985569943\n"
     ]
    }
   ],
   "source": [
    "print(\"1st distance:\", distance_3d((avg_x_max_x,avg_y_max_x,avg_z_max_x ),(avg_x_min_x,avg_y_min_x,avg_z_min_x )))"
   ]
  },
  {
   "cell_type": "code",
   "execution_count": 82,
   "id": "592d55bb",
   "metadata": {},
   "outputs": [
    {
     "name": "stdout",
     "output_type": "stream",
     "text": [
      "2nd distance: 0.34675968031251503\n"
     ]
    }
   ],
   "source": [
    "print(\"2nd distance:\", distance_3d((avg_x_max_x,avg_y_max_x,avg_z_max_x ),(avg_x_max_y,avg_y_max_y,avg_z_max_y )))"
   ]
  },
  {
   "cell_type": "code",
   "execution_count": 83,
   "id": "f81442c5",
   "metadata": {},
   "outputs": [
    {
     "name": "stdout",
     "output_type": "stream",
     "text": [
      "3rd distance: 0.4318200701912578\n"
     ]
    }
   ],
   "source": [
    "print(\"3rd distance:\", distance_3d((avg_x_max_x,avg_y_max_x,avg_z_max_x ),(avg_x_min_y,avg_y_min_y,avg_z_min_y )))"
   ]
  },
  {
   "cell_type": "code",
   "execution_count": 84,
   "id": "4de96368",
   "metadata": {},
   "outputs": [
    {
     "name": "stdout",
     "output_type": "stream",
     "text": [
      "Height of box:  0.18713642518105333\n",
      "Width of box:  0.34675968031251503\n",
      "Length of box:  0.4318200701912578\n"
     ]
    }
   ],
   "source": [
    "print(\"Height of box: \", distance_point_to_plane(inliers[random_point], best_plane_dominant))\n",
    "print(\"Width of box: \", distance_3d((avg_x_max_x,avg_y_max_x,avg_z_max_x ),(avg_x_max_y,avg_y_max_y,avg_z_max_y )))\n",
    "print(\"Length of box: \", distance_3d((avg_x_max_x,avg_y_max_x,avg_z_max_x ),(avg_x_min_y,avg_y_min_y,avg_z_min_y )))"
   ]
  },
  {
   "cell_type": "code",
   "execution_count": null,
   "id": "c6568fb9",
   "metadata": {},
   "outputs": [],
   "source": []
  },
  {
   "cell_type": "code",
   "execution_count": null,
   "id": "7534de40",
   "metadata": {},
   "outputs": [],
   "source": []
  }
 ],
 "metadata": {
  "kernelspec": {
   "display_name": "base",
   "language": "python",
   "name": "python3"
  },
  "language_info": {
   "codemirror_mode": {
    "name": "ipython",
    "version": 3
   },
   "file_extension": ".py",
   "mimetype": "text/x-python",
   "name": "python",
   "nbconvert_exporter": "python",
   "pygments_lexer": "ipython3",
   "version": "3.11.7"
  }
 },
 "nbformat": 4,
 "nbformat_minor": 5
}
