{
 "cells": [
  {
   "cell_type": "code",
   "execution_count": 9,
   "id": "157b68ae",
   "metadata": {},
   "outputs": [],
   "source": [
    "import numpy as np\n",
    "import matplotlib.pyplot as plt\n",
    "import rawpy\n",
    "raw = rawpy.imread(\"IMG_4782.CR3\")\n",
    "array = np.array(raw.raw_image_visible)"
   ]
  },
  {
   "cell_type": "code",
   "execution_count": 10,
   "id": "4c4d1b56",
   "metadata": {},
   "outputs": [
    {
     "data": {
      "text/plain": [
       "16383"
      ]
     },
     "execution_count": 10,
     "metadata": {},
     "output_type": "execute_result"
    }
   ],
   "source": [
    "np.max(array)"
   ]
  },
  {
   "cell_type": "code",
   "execution_count": 11,
   "id": "98105a60",
   "metadata": {},
   "outputs": [
    {
     "data": {
      "text/plain": [
       "2029"
      ]
     },
     "execution_count": 11,
     "metadata": {},
     "output_type": "execute_result"
    }
   ],
   "source": [
    "np.min(array)"
   ]
  },
  {
   "cell_type": "code",
   "execution_count": 12,
   "id": "cfad8b8c",
   "metadata": {},
   "outputs": [
    {
     "data": {
      "text/plain": [
       "array([[2362, 2513, 2332, ..., 2518, 2367, 2544],\n",
       "       [2455, 2208, 2506, ..., 2218, 2513, 2237],\n",
       "       [2381, 2419, 2393, ..., 2481, 2372, 2537],\n",
       "       ...,\n",
       "       [2193, 2110, 2163, ..., 2425, 2867, 2423],\n",
       "       [2140, 2190, 2157, ..., 2798, 2727, 2863],\n",
       "       [2222, 2101, 2190, ..., 2418, 2933, 2465]], dtype=uint16)"
      ]
     },
     "execution_count": 12,
     "metadata": {},
     "output_type": "execute_result"
    }
   ],
   "source": [
    "array"
   ]
  },
  {
   "cell_type": "code",
   "execution_count": 13,
   "id": "15fa9df6",
   "metadata": {},
   "outputs": [
    {
     "data": {
      "image/png": "[encoded data removed]",
      "text/plain": [
       "<Figure size 640x480 with 1 Axes>"
      ]
     },
     "metadata": {},
     "output_type": "display_data"
    }
   ],
   "source": [
    "def inspect_bayer_pattern(raw_data):\n",
    "    # Visualize a small part of the raw data\n",
    "    plt.imshow(raw_data[:10, :10], cmap='gray')\n",
    "    plt.title('Zoomed-in Raw Data')\n",
    "    plt.show()\n",
    "    # Add more sophisticated analysis as needed\n",
    "\n",
    "raw_data = array\n",
    "inspect_bayer_pattern(raw_data)"
   ]
  },
  {
   "cell_type": "markdown",
   "id": "e8ae93c1",
   "metadata": {},
   "source": [
    "### Inspecting Bayer pattern by Analyzing RED"
   ]
  },
  {
   "cell_type": "code",
   "execution_count": 14,
   "id": "3bf08195",
   "metadata": {},
   "outputs": [],
   "source": [
    "# import numpy as np\n",
    "# import matplotlib.pyplot as plt\n",
    "\n",
    "# def inspect_bayer_pattern(raw_data):\n",
    "#     # Visualize a small part of the raw data\n",
    "#     plt.imshow(raw_data[2600:2610, 3800:3810], cmap='gray')\n",
    "#     plt.title('Zoomed-in Raw Data')\n",
    "#     plt.show()\n",
    "#     # Add more sophisticated analysis as needed\n",
    "\n",
    "# inspect_bayer_pattern(array)"
   ]
  },
  {
   "cell_type": "code",
   "execution_count": 15,
   "id": "5ed28fd6",
   "metadata": {},
   "outputs": [],
   "source": [
    "from tqdm.auto import tqdm"
   ]
  },
  {
   "cell_type": "markdown",
   "id": "24e8573f",
   "metadata": {},
   "source": [
    "### 3. Implement a Demosaicing Algorithm"
   ]
  },
  {
   "cell_type": "code",
   "execution_count": 16,
   "id": "c5ae6161",
   "metadata": {
    "scrolled": true
   },
   "outputs": [
    {
     "data": {
      "application/vnd.jupyter.widget-view+json": {
       "model_id": "8a6926e419af42a3b4f0dcf25a1ee66d",
       "version_major": 2,
       "version_minor": 0
      },
      "text/plain": [
       "  0%|          | 0/4658 [00:00<?, ?it/s]"
      ]
     },
     "metadata": {},
     "output_type": "display_data"
    }
   ],
   "source": [
    "import numpy as np\n",
    "import cv2\n",
    "\n",
    "def bilinear_demosaicing(raw_data):\n",
    "    # Assuming raw_data is a numpy array of the RAW image data\n",
    "\n",
    "    # Height and width of the raw image\n",
    "    height, width = raw_data.shape\n",
    "\n",
    "    # Create an empty image for the demosaiced output\n",
    "    # This will be a 3-channel image for the RGB color space\n",
    "    demosaiced_img = np.zeros((height, width, 3), dtype=np.uint16)\n",
    "\n",
    "    # Bilinear demosaicing algorithm\n",
    "    for row in tqdm(range(1, height - 1)):\n",
    "        for col in range(1, width - 1):\n",
    "            if (row % 2 == 1) and (col % 2 == 1):  # Blue pixel\n",
    "                demosaiced_img[row, col, 0] = raw_data[row, col]  # Blue\n",
    "                demosaiced_img[row, col, 1] = (raw_data[row, col - 1] + raw_data[row, col + 1] +\n",
    "                                               raw_data[row - 1, col] + raw_data[row + 1, col]) // 4  # Green\n",
    "                demosaiced_img[row, col, 2] = (raw_data[row - 1, col - 1] + raw_data[row - 1, col + 1] +\n",
    "                                               raw_data[row + 1, col - 1] + raw_data[row + 1, col + 1]) // 4  # Red\n",
    "            elif (row % 2 == 0) and (col % 2 == 0):  # Red pixel\n",
    "                demosaiced_img[row, col, 0] = (raw_data[row - 1, col - 1] + raw_data[row - 1, col + 1] +\n",
    "                                               raw_data[row + 1, col - 1] + raw_data[row + 1, col + 1]) // 4  # Blue\n",
    "                demosaiced_img[row, col, 1] = (raw_data[row, col - 1] + raw_data[row, col + 1] +\n",
    "                                               raw_data[row - 1, col] + raw_data[row + 1, col]) // 4  # Green\n",
    "                demosaiced_img[row, col, 2] = raw_data[row, col]  # Red\n",
    "            else:  # Green pixel\n",
    "                demosaiced_img[row, col, 1] = raw_data[row, col]  # Green\n",
    "                if row % 2 == 0:\n",
    "                    demosaiced_img[row, col, 0] = (raw_data[row - 1, col] + raw_data[row + 1, col]) // 2  # Blue\n",
    "                    demosaiced_img[row, col, 2] = (raw_data[row, col - 1] + raw_data[row, col + 1]) // 2  # Red\n",
    "                     \n",
    "                else:\n",
    "                    demosaiced_img[row, col, 0] = (raw_data[row, col - 1] + raw_data[row, col + 1]) // 2  # Blue\n",
    "                    demosaiced_img[row, col, 2] = (raw_data[row - 1, col] + raw_data[row + 1, col]) // 2  # Red\n",
    "\n",
    "\n",
    "    return demosaiced_img\n",
    "\n",
    "\n",
    "demosaiced_image = bilinear_demosaicing(array)\n"
   ]
  },
  {
   "cell_type": "code",
   "execution_count": 17,
   "id": "f2b6630b",
   "metadata": {},
   "outputs": [
    {
     "data": {
      "text/plain": [
       "array([[   0,    0,    0, ...,    0,    0,    0],\n",
       "       [   0, 2367, 2362, ..., 2383, 2369,    0],\n",
       "       [   0, 2387, 2393, ..., 2403, 2372,    0],\n",
       "       ...,\n",
       "       [   0, 2144, 2158, ..., 2764, 2881,    0],\n",
       "       [   0, 2148, 2157, ..., 2672, 2727,    0],\n",
       "       [   0,    0,    0, ...,    0,    0,    0]], dtype=uint16)"
      ]
     },
     "execution_count": 17,
     "metadata": {},
     "output_type": "execute_result"
    }
   ],
   "source": [
    "demosaiced_image[:,:,2]"
   ]
  },
  {
   "cell_type": "code",
   "execution_count": 18,
   "id": "5fcb49c7",
   "metadata": {},
   "outputs": [],
   "source": [
    "demosaiced_image = demosaiced_image[1:-1, 1:-1]"
   ]
  },
  {
   "cell_type": "code",
   "execution_count": 19,
   "id": "0e80ca7d",
   "metadata": {},
   "outputs": [
    {
     "data": {
      "text/plain": [
       "2029"
      ]
     },
     "execution_count": 19,
     "metadata": {},
     "output_type": "execute_result"
    }
   ],
   "source": [
    "demosaiced_image.min()"
   ]
  },
  {
   "cell_type": "code",
   "execution_count": 20,
   "id": "dd1c30d5",
   "metadata": {},
   "outputs": [
    {
     "data": {
      "text/plain": [
       "16383"
      ]
     },
     "execution_count": 20,
     "metadata": {},
     "output_type": "execute_result"
    }
   ],
   "source": [
    "demosaiced_image.max()"
   ]
  },
  {
   "cell_type": "code",
   "execution_count": 21,
   "id": "50918982",
   "metadata": {},
   "outputs": [
    {
     "name": "stdout",
     "output_type": "stream",
     "text": [
      "Max value: 16383 Min Value: 2029\n"
     ]
    }
   ],
   "source": [
    "def map_to_255(image):\n",
    "    # Assuming the image is in some range and you want to scale it to 0-255\n",
    "    min_val = np.min(image)\n",
    "    max_val = np.max(image)\n",
    "    print(\"Max value:\", max_val, \"Min Value:\", min_val)\n",
    "    scaled_image = ((image - min_val) / (max_val - min_val)) * 255\n",
    "    return scaled_image.astype(np.uint8)\n",
    "\n",
    "demosaiced_image = map_to_255(demosaiced_image)"
   ]
  },
  {
   "cell_type": "code",
   "execution_count": 22,
   "id": "36dbf91f",
   "metadata": {},
   "outputs": [
    {
     "data": {
      "text/plain": [
       "0"
      ]
     },
     "execution_count": 22,
     "metadata": {},
     "output_type": "execute_result"
    }
   ],
   "source": [
    "demosaiced_image.min()"
   ]
  },
  {
   "cell_type": "code",
   "execution_count": 23,
   "id": "23a73f5c",
   "metadata": {},
   "outputs": [
    {
     "data": {
      "text/plain": [
       "255"
      ]
     },
     "execution_count": 23,
     "metadata": {},
     "output_type": "execute_result"
    }
   ],
   "source": [
    "demosaiced_image.max()"
   ]
  },
  {
   "cell_type": "code",
   "execution_count": 24,
   "id": "c68668c5",
   "metadata": {},
   "outputs": [
    {
     "data": {
      "text/plain": [
       "True"
      ]
     },
     "execution_count": 24,
     "metadata": {},
     "output_type": "execute_result"
    }
   ],
   "source": [
    "output_path = 'bilinear_demosaicing_image.png'\n",
    "cv2.imwrite(output_path, demosaiced_image)"
   ]
  },
  {
   "cell_type": "markdown",
   "id": "fa77e9f2",
   "metadata": {},
   "source": [
    "### 4.Improve the Luminosity"
   ]
  },
  {
   "cell_type": "code",
   "execution_count": 25,
   "id": "ced3d180",
   "metadata": {},
   "outputs": [
    {
     "data": {
      "text/plain": [
       "True"
      ]
     },
     "execution_count": 25,
     "metadata": {},
     "output_type": "execute_result"
    }
   ],
   "source": [
    "gamma = 0.45\n",
    "lower_percentile, upper_percentile = np.percentile(demosaiced_image, [0.01, 99.99])\n",
    "normalized_image = (demosaiced_image - lower_percentile) / (upper_percentile - lower_percentile)\n",
    "normalized_image[normalized_image < 0] = 0\n",
    "normalized_image[normalized_image > 1] = 1\n",
    "\n",
    "# Apply gamma correction\n",
    "gamma_corrected_image = np.power(normalized_image, gamma)\n",
    "\n",
    "# Invert normalization to get back to the original range\n",
    "final_image = (gamma_corrected_image * (upper_percentile - lower_percentile)) + lower_percentile\n",
    "final_image = np.clip(final_image, 0, 255).astype(np.uint8)\n",
    "\n",
    "# Save the gamma corrected image\n",
    "gamma_corrected_output_path = 'gamma_corrected_image_045.png'\n",
    "cv2.imwrite(gamma_corrected_output_path, final_image)"
   ]
  },
  {
   "cell_type": "markdown",
   "id": "6f1fca02",
   "metadata": {},
   "source": [
    "### 5. White Balance"
   ]
  },
  {
   "cell_type": "code",
   "execution_count": 26,
   "id": "70b076c2",
   "metadata": {},
   "outputs": [
    {
     "data": {
      "text/plain": [
       "True"
      ]
     },
     "execution_count": 26,
     "metadata": {},
     "output_type": "execute_result"
    }
   ],
   "source": [
    "def apply_white_balance(img):\n",
    "    # Calculate the average color of each RGB channel\n",
    "    avg_r = np.mean(img[:,:,2])\n",
    "    avg_g = np.mean(img[:,:,1])\n",
    "    avg_b = np.mean(img[:,:,0])\n",
    "\n",
    "    # Calculate the overall average color\n",
    "    avg_gray = (avg_r + avg_g + avg_b) / 3\n",
    "\n",
    "    # Scale each channel\n",
    "    img[:,:,2] = np.clip((img[:,:,2] / avg_r) * avg_gray, 0, 255)\n",
    "    img[:,:,1] = np.clip((img[:,:,1] / avg_g) * avg_gray, 0, 255)\n",
    "    img[:,:,0] = np.clip((img[:,:,0] / avg_b) * avg_gray, 0, 255)\n",
    "\n",
    "    return img.astype(np.uint8)\n",
    "\n",
    "# Load the gamma-corrected image\n",
    "gamma_corrected_image = cv2.imread(gamma_corrected_output_path)\n",
    "\n",
    "# Apply white balance\n",
    "white_balanced_image = apply_white_balance(gamma_corrected_image)\n",
    "\n",
    "# Save the white balanced image\n",
    "white_balanced_output_path = 'white_balanced_image_045.png'\n",
    "cv2.imwrite(white_balanced_output_path, white_balanced_image)"
   ]
  },
  {
   "cell_type": "code",
   "execution_count": null,
   "id": "99ceb2f5",
   "metadata": {},
   "outputs": [],
   "source": []
  },
  {
   "cell_type": "code",
   "execution_count": null,
   "id": "c987a1ab",
   "metadata": {},
   "outputs": [],
   "source": []
  },
  {
   "cell_type": "code",
   "execution_count": null,
   "id": "d9727f08",
   "metadata": {},
   "outputs": [],
   "source": []
  },
  {
   "cell_type": "code",
   "execution_count": null,
   "id": "c237a0f3",
   "metadata": {},
   "outputs": [],
   "source": []
  }
 ],
 "metadata": {
  "kernelspec": {
   "display_name": "Python 3 (ipykernel)",
   "language": "python",
   "name": "python3"
  },
  "language_info": {
   "codemirror_mode": {
    "name": "ipython",
    "version": 3
   },
   "file_extension": ".py",
   "mimetype": "text/x-python",
   "name": "python",
   "nbconvert_exporter": "python",
   "pygments_lexer": "ipython3",
   "version": "3.11.7"
  }
 },
 "nbformat": 4,
 "nbformat_minor": 5
}
