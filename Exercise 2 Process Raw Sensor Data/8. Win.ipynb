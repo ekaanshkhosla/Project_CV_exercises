{
 "cells": [
  {
   "cell_type": "code",
   "execution_count": 3,
   "id": "c27851d6",
   "metadata": {},
   "outputs": [],
   "source": [
    "import numpy as np\n",
    "import matplotlib.pyplot as plt\n",
    "import rawpy\n",
    "from tqdm.auto import tqdm\n",
    "import cv2"
   ]
  },
  {
   "cell_type": "code",
   "execution_count": 4,
   "id": "b18ee444",
   "metadata": {},
   "outputs": [],
   "source": [
    "def process_raw(path_raw_image, path_to_save_image):\n",
    "    \n",
    "    #Assuming path_raw_image, path_to_save_image is a string\n",
    "    \n",
    "    raw = rawpy.imread(path_raw_image)\n",
    "    array = np.array(raw.raw_image_visible)\n",
    "    height, width = array.shape\n",
    "    demosaiced_img = np.zeros((height, width, 3), dtype=np.uint16)\n",
    "\n",
    "    \n",
    "    for row in tqdm(range(1, height - 1)):\n",
    "        for col in range(1, width - 1):\n",
    "            if (row % 2 == 1) and (col % 2 == 1):  # Blue pixel\n",
    "                demosaiced_img[row, col, 0] = array[row, col]  # Blue\n",
    "                demosaiced_img[row, col, 1] = (array[row, col - 1] + array[row, col + 1] +\n",
    "                                               array[row - 1, col] + array[row + 1, col]) // 4  # Green\n",
    "                demosaiced_img[row, col, 2] = (array[row - 1, col - 1] + array[row - 1, col + 1] +\n",
    "                                               array[row + 1, col - 1] + array[row + 1, col + 1]) // 4  # Red\n",
    "            elif (row % 2 == 0) and (col % 2 == 0):  # Red pixel\n",
    "                demosaiced_img[row, col, 0] = (array[row - 1, col - 1] + array[row - 1, col + 1] +\n",
    "                                               array[row + 1, col - 1] + array[row + 1, col + 1]) // 4  # Blue\n",
    "                demosaiced_img[row, col, 1] = (array[row, col - 1] + array[row, col + 1] +\n",
    "                                               array[row - 1, col] + array[row + 1, col]) // 4  # Green\n",
    "                demosaiced_img[row, col, 2] = array[row, col]  # Red\n",
    "            else:  # Green pixel\n",
    "                demosaiced_img[row, col, 1] = array[row, col]  # Green\n",
    "                if row % 2 == 0:\n",
    "                    demosaiced_img[row, col, 0] = (array[row - 1, col] + array[row + 1, col]) // 2  # Blue\n",
    "                    demosaiced_img[row, col, 2] = (array[row, col - 1] + array[row, col + 1]) // 2  # Red\n",
    "                     \n",
    "                else:\n",
    "                    demosaiced_img[row, col, 0] = (array[row, col - 1] + array[row, col + 1]) // 2  # Blue\n",
    "                    demosaiced_img[row, col, 2] = (array[row - 1, col] + array[row + 1, col]) // 2  # Red\n",
    "                    \n",
    "            \n",
    "            \n",
    "            \n",
    "    demosaiced_img = demosaiced_img[1:-1, 1:-1]\n",
    "    print(demosaiced_img.min, demosaiced_img.max)\n",
    "    \n",
    "    min_val = np.min(demosaiced_img)\n",
    "    max_val = np.max(demosaiced_img)\n",
    "    print(\"Max value:\", max_val, \"Min Value:\", min_val)\n",
    "    scaled_image = ((demosaiced_img - min_val) / (max_val - min_val)) * 255\n",
    "    scaled_image = scaled_image.astype(np.uint8)\n",
    "    \n",
    "    gamma = 0.45\n",
    "    lower_percentile, upper_percentile = np.percentile(scaled_image, [0.01, 99.99])\n",
    "    normalized_image = (scaled_image - lower_percentile) / (upper_percentile - lower_percentile)\n",
    "    normalized_image[normalized_image < 0] = 0\n",
    "    normalized_image[normalized_image > 1] = 1\n",
    "    gamma_corrected_image = np.power(normalized_image, gamma)\n",
    "    final_image = (gamma_corrected_image * (upper_percentile - lower_percentile)) + lower_percentile\n",
    "    final_image = np.clip(final_image, 0, 255).astype(np.uint8)\n",
    "    \n",
    "    \n",
    "    avg_r = np.mean(final_image[:,:,2])\n",
    "    avg_g = np.mean(final_image[:,:,1])\n",
    "    avg_b = np.mean(final_image[:,:,0])\n",
    "    avg_gray = (avg_r + avg_g + avg_b) / 3\n",
    "    final_image[:,:,2] = np.clip((final_image[:,:,2] / avg_r) * avg_gray, 0, 255)\n",
    "    final_image[:,:,1] = np.clip((final_image[:,:,1] / avg_g) * avg_gray, 0, 255)\n",
    "    final_image[:,:,0] = np.clip((final_image[:,:,0] / avg_b) * avg_gray, 0, 255)   \n",
    "    \n",
    "    cv2.imwrite(path_to_save_image+\".png\", final_image)"
   ]
  },
  {
   "cell_type": "code",
   "execution_count": 5,
   "id": "25442a1c",
   "metadata": {},
   "outputs": [
    {
     "data": {
      "application/vnd.jupyter.widget-view+json": {
       "model_id": "97af754e0dca4a6d998b3a310aa7e55e",
       "version_major": 2,
       "version_minor": 0
      },
      "text/plain": [
       "  0%|          | 0/4658 [00:00<?, ?it/s]"
      ]
     },
     "metadata": {},
     "output_type": "display_data"
    },
    {
     "name": "stdout",
     "output_type": "stream",
     "text": [
      "<built-in method min of numpy.ndarray object at 0x000002001C0D18F0> <built-in method max of numpy.ndarray object at 0x000002001C0D18F0>\n",
      "Max value: 16383 Min Value: 2029\n"
     ]
    }
   ],
   "source": [
    "process_raw(\"test_image.CR3\", \"Final_image2\")"
   ]
  },
  {
   "cell_type": "code",
   "execution_count": null,
   "id": "a525b738",
   "metadata": {},
   "outputs": [],
   "source": []
  }
 ],
 "metadata": {
  "kernelspec": {
   "display_name": "Python 3 (ipykernel)",
   "language": "python",
   "name": "python3"
  },
  "language_info": {
   "codemirror_mode": {
    "name": "ipython",
    "version": 3
   },
   "file_extension": ".py",
   "mimetype": "text/x-python",
   "name": "python",
   "nbconvert_exporter": "python",
   "pygments_lexer": "ipython3",
   "version": "3.11.5"
  }
 },
 "nbformat": 4,
 "nbformat_minor": 5
}
